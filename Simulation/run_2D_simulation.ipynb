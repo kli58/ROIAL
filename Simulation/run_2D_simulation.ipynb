{
 "cells": [
  {
   "cell_type": "code",
   "execution_count": 1,
   "metadata": {},
   "outputs": [],
   "source": [
    "import os\n",
    "from os.path import dirname\n",
    "import numpy as np\n",
    "from ROIAL_simulation import run_simulation\n",
    "file_dir = dirname(os.getcwd())\n",
    "root_directory = dirname(dirname(dirname(file_dir))) \n"
   ]
  },
  {
   "cell_type": "code",
   "execution_count": 2,
   "metadata": {},
   "outputs": [
    {
     "name": "stdout",
     "output_type": "stream",
     "text": [
      "ordinal threshold true:  [-0.15501024  0.2312535   0.46535273  0.64092716  0.79309166  1.01548593]\n",
      "900\n",
      "iteration:  1\n",
      "361\n",
      "start rd\n",
      "(101, 2)\n",
      "safety set size 100\n",
      "sampled action:  [12  8]\n",
      "iteration:  2\n",
      "368\n",
      "start rd\n",
      "(102, 2)\n",
      "safety set size 100\n",
      "sampled action:  [ 1 26]\n",
      "iteration:  3\n",
      "56\n",
      "start rd\n",
      "(103, 2)\n",
      "safety set size 100\n",
      "sampled action:  [21  3]\n",
      "iteration:  4\n",
      "633\n",
      "start rd\n",
      "(104, 2)\n",
      "safety set size 101\n",
      "sampled action:  [ 0 11]\n",
      "iteration:  5\n",
      "11\n",
      "start rd\n",
      "(105, 2)\n",
      "safety set size 102\n",
      "sampled action:  [10 14]\n",
      "iteration:  6\n",
      "314\n",
      "start rd\n",
      "(106, 2)\n",
      "safety set size 99\n",
      "sampled action:  [18 14]\n",
      "iteration:  7\n",
      "554\n",
      "start rd\n",
      "(107, 2)\n",
      "safety set size 102\n",
      "sampled action:  [22  9]\n",
      "iteration:  8\n",
      "669\n",
      "start rd\n",
      "(108, 2)\n",
      "safety set size 104\n",
      "sampled action:  [25 15]\n",
      "iteration:  9\n",
      "765\n",
      "start rd\n",
      "(109, 2)\n",
      "safety set size 104\n",
      "sampled action:  [2 4]\n"
     ]
    }
   ],
   "source": [
    "feedback_type = ['ord','pref']\n",
    "model_params = {'ord_nos':0,'pref_nos':0.06,'signal_variance': 1.0, 'lengthscales': [0.15, 0.15],'GP_noise_var': 0.01,\n",
    "             'IG_it':1000,'query_type':'IG','saf_thresh': 0.0, 'saf_method': 'none',\n",
    "             'pref_noise':0.015,'num_category':5, 'ordinal_noise':0.1}\n",
    "\n",
    "delta_int = 2/model_params['num_category']\n",
    "ordinal_threshold_estimate = np.array([delta_int]*(model_params['num_category']-1))\n",
    "ordinal_threshold_estimate[0] = -0.5\n",
    "model_params['ord_threshold_estimate'] = ordinal_threshold_estimate\n",
    "model_params['saf_method'] = 'IG_ucb'\n",
    "model_params['saf_thresh'] = 0.5\n",
    "sub_params = {'model_params':model_params,'dropout_method':'RD','rd_sz':100,'run_nums': range(1),'num_trials':10,'D':2,'num_category':5,'ord_perct':False,\n",
    "               'ord_b1':0.33,'ord_delta':[0.2,0.15,0.13],'file_part': file_dir + '/Simulation/Sampled_functions_2D/30_by_30/Sampled_objective_'}\n",
    "save_folder = root_directory + '/Results/' + '_'.join(feedback_type) + '_' +sub_params['dropout_method'] +'_' + str(sub_params['rd_sz']) +'/'\n",
    "run_simulation(root_directory,feedback_type,sub_params,save_folder)\n"
   ]
  },
  {
   "cell_type": "code",
   "execution_count": 7,
   "metadata": {},
   "outputs": [
    {
     "data": {
      "text/plain": [
       "'/Users/amyli/Desktop/Results/ord_pref_RD_100/'"
      ]
     },
     "execution_count": 7,
     "metadata": {},
     "output_type": "execute_result"
    }
   ],
   "source": []
  },
  {
   "cell_type": "code",
   "execution_count": null,
   "metadata": {},
   "outputs": [],
   "source": []
  }
 ],
 "metadata": {
  "kernelspec": {
   "display_name": "Python 3",
   "language": "python",
   "name": "python3"
  },
  "language_info": {
   "codemirror_mode": {
    "name": "ipython",
    "version": 3
   },
   "file_extension": ".py",
   "mimetype": "text/x-python",
   "name": "python",
   "nbconvert_exporter": "python",
   "pygments_lexer": "ipython3",
   "version": "3.7.6"
  }
 },
 "nbformat": 4,
 "nbformat_minor": 4
}
